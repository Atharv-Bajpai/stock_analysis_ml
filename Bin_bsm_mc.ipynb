{
  "nbformat": 4,
  "nbformat_minor": 0,
  "metadata": {
    "colab": {
      "provenance": []
    },
    "kernelspec": {
      "name": "python3",
      "display_name": "Python 3"
    },
    "language_info": {
      "name": "python"
    }
  },
  "cells": [
    {
      "cell_type": "code",
      "source": [
        "import datetime as dt\n",
        "import pandas as pd\n",
        "import numpy as np\n",
        "import yfinance as yf\n",
        "from pandas_datareader import data as pdr\n",
        "import matplotlib.pyplot as plt\n",
        "from scipy.stats import norm\n",
        "end = dt.datetime.now()\n",
        "start = dt.datetime(2022,1,1)\n",
        "\n",
        "df = yf.download('^NSEI', start, end)\n",
        "Close = df.Close\n",
        "Close.tail()\n",
        "\n",
        "\n",
        "log_returns = np.log(df.Close/df.Close.shift(1)).dropna()\n",
        "\n",
        "TRADING_DAYS = 20\n",
        "volatility = log_returns.rolling(window=TRADING_DAYS).std()*np.sqrt(252)\n",
        "\n",
        "\n",
        "r=0.07 #risk free rate\n",
        "def round_to_nearest_50(n):  #for finding price of atm option\n",
        "    return round(n / 50) * 50\n",
        "\n",
        "T=6/365 #time to expiration\n",
        "\n",
        "def blackScholes(r, S, K, T, sigma, type=\"c\"):\n",
        "\n",
        "    d1 = (np.log(S/K) + (r + sigma**2/2)*T)/(sigma*np.sqrt(T))\n",
        "    d2 = d1 - sigma*np.sqrt(T)\n",
        "    try:\n",
        "        if type == \"call\":\n",
        "            price = S*norm.cdf(d1, 0, 1) - K*np.exp(-r*T)*norm.cdf(d2, 0, 1)\n",
        "        elif type == \"put\":\n",
        "            price = K*np.exp(-r*T)*norm.cdf(-d2, 0, 1) - S*norm.cdf(-d1, 0, 1)\n",
        "        return price\n",
        "    except:\n",
        "        print(\"Please confirm option type, either 'c' for Call or 'p' for Put!\")\n",
        "\n",
        "\n",
        "print(\"Using BSM NIFTY50 Call Option Price is :\",round(blackScholes(r, Close['2024-07-12 '], round_to_nearest_50(Close['2024-07-12 ']), T, volatility[ '2024-07-12'], type=\"call\"),2) ,\"at\",round_to_nearest_50(Close['2024-07-12 ']))\n",
        "print(\"Using BSM NIFTY50 Put Option Price is :\",round(blackScholes(r, Close['2024-07-12 '], round_to_nearest_50(Close['2024-07-12 ']), T, volatility[ '2024-07-12'], type=\"put\"),2) ,\"at\",round_to_nearest_50(Close['2024-07-12 ']))\n"
      ],
      "metadata": {
        "colab": {
          "base_uri": "https://localhost:8080/"
        },
        "id": "ltORTmuptxb-",
        "outputId": "3ffef9cd-25f6-4687-9c9c-0ae4c85b342c"
      },
      "execution_count": 8,
      "outputs": [
        {
          "output_type": "stream",
          "name": "stderr",
          "text": [
            "\r[*********************100%%**********************]  1 of 1 completed"
          ]
        },
        {
          "output_type": "stream",
          "name": "stdout",
          "text": [
            "Using BSM NIFTY50 Call Option Price is : 90.58 at 24500\n",
            "Using BSM NIFTY50 Put Option Price is : 60.25 at 24500\n"
          ]
        },
        {
          "output_type": "stream",
          "name": "stderr",
          "text": [
            "\n"
          ]
        }
      ]
    },
    {
      "cell_type": "code",
      "source": [
        "def binomial_tree_call(S, K, r, sigma, T, N):\n",
        "\n",
        "    dt = T/N\n",
        "    u = np.exp(sigma * np.sqrt(dt))\n",
        "    d = 1 / u\n",
        "    p = (np.exp(r * dt) - d) / (u - d)\n",
        "    S_T = S * u**np.arange(N+1) * d**(N-np.arange(N+1))\n",
        "    V_T = np.maximum(S_T - K, 0)\n",
        "    for i in range(N-1, -1, -1):\n",
        "        S_i = S * u**np.arange(i+1) * d**(N-i-np.arange(i+1))\n",
        "        V_i = np.exp(-r*dt) * (p * V_T[:-1] + (1-p) * V_T[1:])\n",
        "        V_T = np.maximum(S_i - K, V_i)\n",
        "    return V_T[0]\n",
        "\n",
        "print(\"Using Binomial Pricing NIFTY50 Call Option Price is :\",round(binomial_tree_call( Close['2024-07-12 '], round_to_nearest_50(Close['2024-07-12 ']),r,  volatility[ '2024-07-12'], T,4),2) ,\"at\",round_to_nearest_50(Close['2024-07-12 ']))\n",
        "\n",
        "\n"
      ],
      "metadata": {
        "colab": {
          "base_uri": "https://localhost:8080/"
        },
        "id": "_xZlZHaOuefU",
        "outputId": "5049678f-4bc0-4058-f772-393b36950cec"
      },
      "execution_count": 17,
      "outputs": [
        {
          "output_type": "stream",
          "name": "stdout",
          "text": [
            "Using Binomial Pricing NIFTY50 Call Option Price is : 183.25 at 24500\n"
          ]
        }
      ]
    },
    {
      "cell_type": "code",
      "source": [
        "\n",
        "def simulate_stock_prices(S0, r, sigma, T, N):\n",
        "    drift = r - 0.5 * sigma ** 2\n",
        "    std_dev = sigma * np.sqrt(T)\n",
        "    Z1 = np.random.normal(size=(N,))\n",
        "    Z2 = np.random.normal(size=(N,))\n",
        "    ST = S0 * np.exp(drift * T + std_dev * (Z1 + Z2*np.sqrt(1-0.5**2)))\n",
        "    return ST\n",
        "\n",
        "stock_prices = simulate_stock_prices( (Close['2024-07-12 ']), r ,volatility[ '2024-07-12'], T, 100000)\n",
        "payoffs = np.maximum(stock_prices - round_to_nearest_50(Close['2024-07-12 ']), 0)\n",
        "\n",
        "option_price = np.exp(-r * T) * np.mean(payoffs)\n",
        "\n",
        "print(\"The Monte Carlo estimated option price is:\", round(option_price,2))\n",
        "\n"
      ],
      "metadata": {
        "colab": {
          "base_uri": "https://localhost:8080/"
        },
        "id": "61yiJq5TydeC",
        "outputId": "19664571-78c9-4fc1-e015-33cad5558f70"
      },
      "execution_count": 21,
      "outputs": [
        {
          "output_type": "stream",
          "name": "stdout",
          "text": [
            "The Monte Carlo estimated option price is: 114.79\n"
          ]
        }
      ]
    }
  ]
}